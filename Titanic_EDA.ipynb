{
 "cells": [
  {
   "metadata": {},
   "cell_type": "markdown",
   "source": "# Importing Libraries",
   "id": "baa210191e7edcfd"
  },
  {
   "metadata": {
    "ExecuteTime": {
     "end_time": "2025-08-08T02:14:43.874560Z",
     "start_time": "2025-08-08T02:14:43.872271Z"
    }
   },
   "cell_type": "code",
   "source": [
    "import pandas as pd\n",
    "import numpy as np\n",
    "import matplotlib.pyplot as plt\n",
    "import seaborn as sns"
   ],
   "id": "405099588ac7759e",
   "outputs": [],
   "execution_count": 1
  },
  {
   "metadata": {},
   "cell_type": "markdown",
   "source": "# File Path",
   "id": "a58d75c9e065ba9a"
  },
  {
   "metadata": {
    "ExecuteTime": {
     "end_time": "2025-08-08T02:14:43.939966Z",
     "start_time": "2025-08-08T02:14:43.933338Z"
    }
   },
   "cell_type": "code",
   "source": "df = pd.read_csv('balanced_data.csv')",
   "id": "4f320dc1ded5d87d",
   "outputs": [],
   "execution_count": 2
  },
  {
   "metadata": {},
   "cell_type": "markdown",
   "source": "# Understanding Our Data",
   "id": "c6d39d00472a614a"
  },
  {
   "metadata": {
    "ExecuteTime": {
     "end_time": "2025-08-08T02:14:43.944884Z",
     "start_time": "2025-08-08T02:14:43.941081Z"
    }
   },
   "cell_type": "code",
   "source": "df.shape",
   "id": "468df5b507b5dca3",
   "outputs": [
    {
     "data": {
      "text/plain": [
       "(1061, 13)"
      ]
     },
     "execution_count": 3,
     "metadata": {},
     "output_type": "execute_result"
    }
   ],
   "execution_count": 3
  },
  {
   "metadata": {
    "ExecuteTime": {
     "end_time": "2025-08-08T02:14:43.956298Z",
     "start_time": "2025-08-08T02:14:43.948642Z"
    }
   },
   "cell_type": "code",
   "source": "df.head()",
   "id": "a713f3fc453fbd96",
   "outputs": [
    {
     "data": {
      "text/plain": [
       "   Unnamed: 0  PassengerId  Survived  Pclass  \\\n",
       "0           0            1         0       3   \n",
       "1           1            2         1       1   \n",
       "2           2            3         1       3   \n",
       "3           3            4         1       1   \n",
       "4           4            5         0       3   \n",
       "\n",
       "                                                Name     Sex   Age  SibSp  \\\n",
       "0                            Braund, Mr. Owen Harris    male  22.0      1   \n",
       "1  Cumings, Mrs. John Bradley (Florence Briggs Th...  female  38.0      1   \n",
       "2                             Heikkinen, Miss. Laina  female  26.0      0   \n",
       "3       Futrelle, Mrs. Jacques Heath (Lily May Peel)  female  35.0      1   \n",
       "4                           Allen, Mr. William Henry    male  35.0      0   \n",
       "\n",
       "   Parch            Ticket     Fare Cabin Embarked  \n",
       "0      0         A/5 21171   7.2500   NaN        S  \n",
       "1      0          PC 17599  71.2833   C85        C  \n",
       "2      0  STON/O2. 3101282   7.9250   NaN        S  \n",
       "3      0            113803  53.1000  C123        S  \n",
       "4      0            373450   8.0500   NaN        S  "
      ],
      "text/html": [
       "<div>\n",
       "<style scoped>\n",
       "    .dataframe tbody tr th:only-of-type {\n",
       "        vertical-align: middle;\n",
       "    }\n",
       "\n",
       "    .dataframe tbody tr th {\n",
       "        vertical-align: top;\n",
       "    }\n",
       "\n",
       "    .dataframe thead th {\n",
       "        text-align: right;\n",
       "    }\n",
       "</style>\n",
       "<table border=\"1\" class=\"dataframe\">\n",
       "  <thead>\n",
       "    <tr style=\"text-align: right;\">\n",
       "      <th></th>\n",
       "      <th>Unnamed: 0</th>\n",
       "      <th>PassengerId</th>\n",
       "      <th>Survived</th>\n",
       "      <th>Pclass</th>\n",
       "      <th>Name</th>\n",
       "      <th>Sex</th>\n",
       "      <th>Age</th>\n",
       "      <th>SibSp</th>\n",
       "      <th>Parch</th>\n",
       "      <th>Ticket</th>\n",
       "      <th>Fare</th>\n",
       "      <th>Cabin</th>\n",
       "      <th>Embarked</th>\n",
       "    </tr>\n",
       "  </thead>\n",
       "  <tbody>\n",
       "    <tr>\n",
       "      <th>0</th>\n",
       "      <td>0</td>\n",
       "      <td>1</td>\n",
       "      <td>0</td>\n",
       "      <td>3</td>\n",
       "      <td>Braund, Mr. Owen Harris</td>\n",
       "      <td>male</td>\n",
       "      <td>22.0</td>\n",
       "      <td>1</td>\n",
       "      <td>0</td>\n",
       "      <td>A/5 21171</td>\n",
       "      <td>7.2500</td>\n",
       "      <td>NaN</td>\n",
       "      <td>S</td>\n",
       "    </tr>\n",
       "    <tr>\n",
       "      <th>1</th>\n",
       "      <td>1</td>\n",
       "      <td>2</td>\n",
       "      <td>1</td>\n",
       "      <td>1</td>\n",
       "      <td>Cumings, Mrs. John Bradley (Florence Briggs Th...</td>\n",
       "      <td>female</td>\n",
       "      <td>38.0</td>\n",
       "      <td>1</td>\n",
       "      <td>0</td>\n",
       "      <td>PC 17599</td>\n",
       "      <td>71.2833</td>\n",
       "      <td>C85</td>\n",
       "      <td>C</td>\n",
       "    </tr>\n",
       "    <tr>\n",
       "      <th>2</th>\n",
       "      <td>2</td>\n",
       "      <td>3</td>\n",
       "      <td>1</td>\n",
       "      <td>3</td>\n",
       "      <td>Heikkinen, Miss. Laina</td>\n",
       "      <td>female</td>\n",
       "      <td>26.0</td>\n",
       "      <td>0</td>\n",
       "      <td>0</td>\n",
       "      <td>STON/O2. 3101282</td>\n",
       "      <td>7.9250</td>\n",
       "      <td>NaN</td>\n",
       "      <td>S</td>\n",
       "    </tr>\n",
       "    <tr>\n",
       "      <th>3</th>\n",
       "      <td>3</td>\n",
       "      <td>4</td>\n",
       "      <td>1</td>\n",
       "      <td>1</td>\n",
       "      <td>Futrelle, Mrs. Jacques Heath (Lily May Peel)</td>\n",
       "      <td>female</td>\n",
       "      <td>35.0</td>\n",
       "      <td>1</td>\n",
       "      <td>0</td>\n",
       "      <td>113803</td>\n",
       "      <td>53.1000</td>\n",
       "      <td>C123</td>\n",
       "      <td>S</td>\n",
       "    </tr>\n",
       "    <tr>\n",
       "      <th>4</th>\n",
       "      <td>4</td>\n",
       "      <td>5</td>\n",
       "      <td>0</td>\n",
       "      <td>3</td>\n",
       "      <td>Allen, Mr. William Henry</td>\n",
       "      <td>male</td>\n",
       "      <td>35.0</td>\n",
       "      <td>0</td>\n",
       "      <td>0</td>\n",
       "      <td>373450</td>\n",
       "      <td>8.0500</td>\n",
       "      <td>NaN</td>\n",
       "      <td>S</td>\n",
       "    </tr>\n",
       "  </tbody>\n",
       "</table>\n",
       "</div>"
      ]
     },
     "execution_count": 4,
     "metadata": {},
     "output_type": "execute_result"
    }
   ],
   "execution_count": 4
  },
  {
   "metadata": {
    "ExecuteTime": {
     "end_time": "2025-08-08T02:14:43.965877Z",
     "start_time": "2025-08-08T02:14:43.961465Z"
    }
   },
   "cell_type": "code",
   "source": "df.info()",
   "id": "e83ac3db5ebf2ac4",
   "outputs": [
    {
     "name": "stdout",
     "output_type": "stream",
     "text": [
      "<class 'pandas.core.frame.DataFrame'>\n",
      "RangeIndex: 1061 entries, 0 to 1060\n",
      "Data columns (total 13 columns):\n",
      " #   Column       Non-Null Count  Dtype  \n",
      "---  ------       --------------  -----  \n",
      " 0   Unnamed: 0   1061 non-null   int64  \n",
      " 1   PassengerId  1061 non-null   int64  \n",
      " 2   Survived     1061 non-null   int64  \n",
      " 3   Pclass       1061 non-null   int64  \n",
      " 4   Name         1061 non-null   object \n",
      " 5   Sex          1061 non-null   object \n",
      " 6   Age          852 non-null    float64\n",
      " 7   SibSp        1061 non-null   int64  \n",
      " 8   Parch        1061 non-null   int64  \n",
      " 9   Ticket       1061 non-null   object \n",
      " 10  Fare         1061 non-null   float64\n",
      " 11  Cabin        233 non-null    object \n",
      " 12  Embarked     1058 non-null   object \n",
      "dtypes: float64(2), int64(6), object(5)\n",
      "memory usage: 107.9+ KB\n"
     ]
    }
   ],
   "execution_count": 5
  },
  {
   "metadata": {
    "ExecuteTime": {
     "end_time": "2025-08-08T02:14:43.993026Z",
     "start_time": "2025-08-08T02:14:43.989806Z"
    }
   },
   "cell_type": "code",
   "source": "df['Survived'].value_counts()",
   "id": "d8f9b9540c364ff3",
   "outputs": [
    {
     "data": {
      "text/plain": [
       "Survived\n",
       "0    549\n",
       "1    512\n",
       "Name: count, dtype: int64"
      ]
     },
     "execution_count": 6,
     "metadata": {},
     "output_type": "execute_result"
    }
   ],
   "execution_count": 6
  },
  {
   "metadata": {},
   "cell_type": "markdown",
   "source": "# Exploratory Data Analysis",
   "id": "11319865a1b14dd1"
  },
  {
   "metadata": {
    "ExecuteTime": {
     "end_time": "2025-08-08T02:14:44.000043Z",
     "start_time": "2025-08-08T02:14:43.998050Z"
    }
   },
   "cell_type": "code",
   "source": [
    "useless_columns = ['PassengerId', 'Cabin', 'Ticket', 'Unnamed: 0'] \n",
    "df.drop(useless_columns, axis = 1, inplace = True)"
   ],
   "id": "b3aeb69421b2b572",
   "outputs": [],
   "execution_count": 7
  },
  {
   "metadata": {
    "ExecuteTime": {
     "end_time": "2025-08-08T02:14:44.006976Z",
     "start_time": "2025-08-08T02:14:44.005219Z"
    }
   },
   "cell_type": "code",
   "source": [
    "def one_hot_encode_column_inplace(df, column, prefix = None, drop_first = True):\n",
    "    if column not in df.columns:\n",
    "        raise ValueError(f'Column \"{column}\" not found in DataFrame.')\n",
    "\n",
    "    dummies = pd.get_dummies(df[column], prefix = prefix or column, drop_first = drop_first)\n",
    "    df = df.drop(columns = [column]).join(dummies)\n",
    "    return df"
   ],
   "id": "5425da24d740420a",
   "outputs": [],
   "execution_count": 8
  },
  {
   "metadata": {
    "ExecuteTime": {
     "end_time": "2025-08-08T02:14:44.093658Z",
     "start_time": "2025-08-08T02:14:44.008614Z"
    }
   },
   "cell_type": "code",
   "source": [
    "# Age Column Fill NAN With Mean\n",
    "df['Age'] = df['Age'].fillna(df['Age'].mean())\n",
    "\n",
    "# Age Check For Outliers\n",
    "sns.boxplot(df['Age'])\n",
    "plt.title('Boxplot of Age')\n",
    "plt.show()"
   ],
   "id": "e492446b7c04c814",
   "outputs": [
    {
     "data": {
      "text/plain": [
       "<Figure size 640x480 with 1 Axes>"
      ],
      "image/png": "[encoded data removed]"
     },
     "metadata": {},
     "output_type": "display_data"
    }
   ],
   "execution_count": 9
  },
  {
   "metadata": {
    "ExecuteTime": {
     "end_time": "2025-08-08T02:14:44.097801Z",
     "start_time": "2025-08-08T02:14:44.094761Z"
    }
   },
   "cell_type": "code",
   "source": [
    "corr_value = df['Survived'].corr(df['Age'])\n",
    "print(corr_value)"
   ],
   "id": "ddf21db14a0abd7d",
   "outputs": [
    {
     "name": "stdout",
     "output_type": "stream",
     "text": [
      "-0.07822979476865599\n"
     ]
    }
   ],
   "execution_count": 10
  },
  {
   "metadata": {
    "ExecuteTime": {
     "end_time": "2025-08-08T02:14:44.101997Z",
     "start_time": "2025-08-08T02:14:44.098405Z"
    }
   },
   "cell_type": "code",
   "source": [
    "# Age Treating Outliers\n",
    "Q1 = df['Age'].quantile(0.25)\n",
    "Q3 = df['Age'].quantile(0.75)\n",
    "IQR = Q3 - Q1\n",
    "\n",
    "lower_bound = Q1 - 1.5 * IQR\n",
    "upper_bound = Q3 + 1.5 * IQR\n",
    "\n",
    "def cap_values(x, lower, upper):\n",
    "    if x < lower:\n",
    "        return lower\n",
    "    elif x > upper:\n",
    "        return upper\n",
    "    else:\n",
    "        return x\n",
    "\n",
    "df['Age'] = df['Age'].apply(cap_values, lower = lower_bound, upper = upper_bound)"
   ],
   "id": "246e1269b103d1ab",
   "outputs": [],
   "execution_count": 11
  },
  {
   "metadata": {
    "ExecuteTime": {
     "end_time": "2025-08-08T02:14:44.105775Z",
     "start_time": "2025-08-08T02:14:44.103133Z"
    }
   },
   "cell_type": "code",
   "source": [
    "# Sex Column LabelEncoding\n",
    "df = one_hot_encode_column_inplace(df, column = 'Sex', prefix = 'Sex', drop_first = True)"
   ],
   "id": "2c0d7145339fc189",
   "outputs": [],
   "execution_count": 12
  },
  {
   "metadata": {
    "ExecuteTime": {
     "end_time": "2025-08-08T02:14:44.143867Z",
     "start_time": "2025-08-08T02:14:44.106405Z"
    }
   },
   "cell_type": "code",
   "source": [
    "# Fare Column Check For Outliers\n",
    "sns.boxplot(df['Fare'])\n",
    "plt.title('Boxplot of Fare')\n",
    "plt.show()"
   ],
   "id": "5f51fcd0201de365",
   "outputs": [
    {
     "data": {
      "text/plain": [
       "<Figure size 640x480 with 1 Axes>"
      ],
      "image/png": "[encoded data removed]"
     },
     "metadata": {},
     "output_type": "display_data"
    }
   ],
   "execution_count": 13
  },
  {
   "metadata": {
    "ExecuteTime": {
     "end_time": "2025-08-08T02:14:44.146778Z",
     "start_time": "2025-08-08T02:14:44.144509Z"
    }
   },
   "cell_type": "code",
   "source": [
    "corr_value = df['Survived'].corr(df['Fare'])\n",
    "print(corr_value)"
   ],
   "id": "936649340aa4a4bf",
   "outputs": [
    {
     "name": "stdout",
     "output_type": "stream",
     "text": [
      "0.26147618055333466\n"
     ]
    }
   ],
   "execution_count": 14
  },
  {
   "metadata": {
    "ExecuteTime": {
     "end_time": "2025-08-08T02:14:44.149175Z",
     "start_time": "2025-08-08T02:14:44.147257Z"
    }
   },
   "cell_type": "code",
   "source": "df['Fare_log'] = np.log1p(df['Fare'])",
   "id": "30c28873da84ed9e",
   "outputs": [],
   "execution_count": 15
  },
  {
   "metadata": {
    "ExecuteTime": {
     "end_time": "2025-08-08T02:14:44.152026Z",
     "start_time": "2025-08-08T02:14:44.149759Z"
    }
   },
   "cell_type": "code",
   "source": [
    "corr_value = df['Survived'].corr(df['Fare_log'])\n",
    "print(corr_value)"
   ],
   "id": "bda53b0c7a759c3a",
   "outputs": [
    {
     "name": "stdout",
     "output_type": "stream",
     "text": [
      "0.29812104977914033\n"
     ]
    }
   ],
   "execution_count": 16
  },
  {
   "metadata": {},
   "cell_type": "markdown",
   "source": "# Feature Engineering",
   "id": "a1c5d202269038bf"
  },
  {
   "metadata": {
    "ExecuteTime": {
     "end_time": "2025-08-08T02:14:44.155951Z",
     "start_time": "2025-08-08T02:14:44.153442Z"
    }
   },
   "cell_type": "code",
   "source": "df['Title'] = df['Name'].str.extract(r' ([A-Za-z]+)\\.', expand=False)",
   "id": "75788fc205014240",
   "outputs": [],
   "execution_count": 17
  },
  {
   "metadata": {
    "ExecuteTime": {
     "end_time": "2025-08-08T02:14:44.159669Z",
     "start_time": "2025-08-08T02:14:44.156669Z"
    }
   },
   "cell_type": "code",
   "source": [
    "df['Title'] = df['Title'].replace({\n",
    "    'Mlle': 'Miss',\n",
    "    'Ms': 'Miss',\n",
    "    'Mme': 'Mrs',\n",
    "    'Lady': 'Rare',\n",
    "    'Countess': 'Rare',\n",
    "    'Capt': 'Rare',\n",
    "    'Col': 'Rare',\n",
    "    'Don': 'Rare',\n",
    "    'Dr': 'Rare',\n",
    "    'Major': 'Rare',\n",
    "    'Rev': 'Rare',\n",
    "    'Sir': 'Rare'\n",
    "})"
   ],
   "id": "f4606a5e449bf5e0",
   "outputs": [],
   "execution_count": 18
  },
  {
   "metadata": {
    "ExecuteTime": {
     "end_time": "2025-08-08T02:14:44.183708Z",
     "start_time": "2025-08-08T02:14:44.181749Z"
    }
   },
   "cell_type": "code",
   "source": [
    "# Drop Name Column\n",
    "df.drop('Name', axis = 1, inplace = True)"
   ],
   "id": "d38d2ceebb4f2e8b",
   "outputs": [],
   "execution_count": 19
  },
  {
   "metadata": {
    "ExecuteTime": {
     "end_time": "2025-08-08T02:14:44.229750Z",
     "start_time": "2025-08-08T02:14:44.226391Z"
    }
   },
   "cell_type": "code",
   "source": [
    "# Title Column OneHotEncoding\n",
    "df = one_hot_encode_column_inplace(df, column = 'Title', prefix = 'Title', drop_first = True)"
   ],
   "id": "91826af2fdc868bf",
   "outputs": [],
   "execution_count": 20
  },
  {
   "metadata": {
    "ExecuteTime": {
     "end_time": "2025-08-08T02:14:44.238456Z",
     "start_time": "2025-08-08T02:14:44.235772Z"
    }
   },
   "cell_type": "code",
   "source": [
    "# New Column\n",
    "df['FamilySize'] = df['SibSp'] + df['Parch'] + 1"
   ],
   "id": "2265f5a58deab6d5",
   "outputs": [],
   "execution_count": 21
  },
  {
   "metadata": {
    "ExecuteTime": {
     "end_time": "2025-08-08T02:14:44.245543Z",
     "start_time": "2025-08-08T02:14:44.242584Z"
    }
   },
   "cell_type": "code",
   "source": "df['AgeBin'] = pd.cut(df['Age'], bins = [0, 12, 20, 40, 60, 80], labels = ['Child', 'Teen', 'Adult', 'Middle', 'Senior'])",
   "id": "9299a3288b9f4bfb",
   "outputs": [],
   "execution_count": 22
  },
  {
   "metadata": {
    "ExecuteTime": {
     "end_time": "2025-08-08T02:14:44.257250Z",
     "start_time": "2025-08-08T02:14:44.254283Z"
    }
   },
   "cell_type": "code",
   "source": "df = one_hot_encode_column_inplace(df, column = 'AgeBin', prefix = 'AgeBin', drop_first = True)",
   "id": "a835b1d585a36a4a",
   "outputs": [],
   "execution_count": 23
  },
  {
   "metadata": {
    "ExecuteTime": {
     "end_time": "2025-08-08T02:14:44.263711Z",
     "start_time": "2025-08-08T02:14:44.261667Z"
    }
   },
   "cell_type": "code",
   "source": [
    "# Create interaction features\n",
    "df['Sex_FareLog'] = df['Sex_male'] * df['Fare_log']\n",
    "df['Sex_FamilySize'] = df['Sex_male'] * df['FamilySize']"
   ],
   "id": "51ab82f9cf816f0f",
   "outputs": [],
   "execution_count": 24
  },
  {
   "metadata": {
    "ExecuteTime": {
     "end_time": "2025-08-08T02:14:44.272440Z",
     "start_time": "2025-08-08T02:14:44.269797Z"
    }
   },
   "cell_type": "code",
   "source": "df['Embarked'] = df['Embarked'].fillna(df['Embarked'].mode()[0])",
   "id": "28fc95801b954bf",
   "outputs": [],
   "execution_count": 25
  },
  {
   "metadata": {
    "ExecuteTime": {
     "end_time": "2025-08-08T02:14:44.279792Z",
     "start_time": "2025-08-08T02:14:44.276827Z"
    }
   },
   "cell_type": "code",
   "source": "df = one_hot_encode_column_inplace(df, column = 'Embarked', prefix = 'Embarked', drop_first = True)",
   "id": "9a9c18c52620f046",
   "outputs": [],
   "execution_count": 26
  },
  {
   "metadata": {
    "ExecuteTime": {
     "end_time": "2025-08-08T02:14:44.283265Z",
     "start_time": "2025-08-08T02:14:44.280544Z"
    }
   },
   "cell_type": "code",
   "source": "df['FareBin'] = pd.qcut(df['Fare'], 4, labels=False)",
   "id": "2d2eccf54aabd8bb",
   "outputs": [],
   "execution_count": 27
  },
  {
   "metadata": {
    "ExecuteTime": {
     "end_time": "2025-08-08T02:14:44.297840Z",
     "start_time": "2025-08-08T02:14:44.293368Z"
    }
   },
   "cell_type": "code",
   "source": [
    "correlations = df.corr(numeric_only = True)['Survived'].dropna()\n",
    "correlations = correlations.abs().sort_values(ascending = False)\n",
    "correlations = correlations.drop('Survived', errors = 'ignore')\n",
    "top_features = correlations.head(35)\n",
    "top_features_list = top_features.index.tolist()\n",
    "print(top_features_list)"
   ],
   "id": "16d13c0a4920858d",
   "outputs": [
    {
     "name": "stdout",
     "output_type": "stream",
     "text": [
      "['Sex_male', 'Title_Mr', 'Sex_FareLog', 'FareBin', 'Pclass', 'Title_Miss', 'Title_Mrs', 'Sex_FamilySize', 'Fare_log', 'Fare', 'Embarked_S', 'Parch', 'Title_Master', 'Age', 'SibSp', 'AgeBin_Adult', 'AgeBin_Middle', 'Embarked_Q', 'FamilySize', 'AgeBin_Teen', 'Title_Rare']\n"
     ]
    }
   ],
   "execution_count": 28
  },
  {
   "metadata": {},
   "cell_type": "markdown",
   "source": "# Logistic Regression Model",
   "id": "e62d2713efe167e"
  },
  {
   "metadata": {
    "ExecuteTime": {
     "end_time": "2025-08-08T02:14:44.743561Z",
     "start_time": "2025-08-08T02:14:44.300281Z"
    }
   },
   "cell_type": "code",
   "source": [
    "from sklearn.model_selection import train_test_split\n",
    "from sklearn.linear_model import LogisticRegression\n",
    "from sklearn.metrics import accuracy_score, f1_score, classification_report\n",
    "from sklearn.preprocessing import StandardScaler\n",
    "\n",
    "# Define features and target\n",
    "features = ['Sex_male', 'Title_Mr', 'Sex_FareLog', 'Pclass', 'Title_Miss', 'Title_Mrs', 'Sex_FamilySize', 'Fare_log', 'Fare', 'Embarked_S', 'Parch', 'Age', 'SibSp', 'AgeBin_Adult', 'AgeBin_Middle', 'Embarked_Q', 'FamilySize', 'AgeBin_Teen', 'Title_Rare']\n",
    "\n",
    "\n",
    "# Prepare data\n",
    "X = df[features]\n",
    "y = df['Survived']\n",
    "\n",
    "# Split data\n",
    "X_train, X_test, y_train, y_test = train_test_split(X, y, test_size = 0.2, random_state = 42)\n",
    "\n",
    "# Standardize features\n",
    "scaler = StandardScaler()\n",
    "X_train_scaled = scaler.fit_transform(X_train)\n",
    "X_test_scaled = scaler.transform(X_test)\n",
    "\n",
    "# Train logistic regression\n",
    "model = LogisticRegression(penalty = 'l2', class_weight = 'balanced', max_iter = 500, C = 1.0, solver = 'liblinear', random_state = 42)\n",
    "\n",
    "model.fit(X_train_scaled, y_train)\n",
    "\n",
    "# Make predictions\n",
    "y_pred = model.predict(X_test_scaled)\n",
    "\n",
    "# Evaluate\n",
    "accuracy = accuracy_score(y_test, y_pred)\n",
    "f1 = f1_score(y_test, y_pred)\n",
    "\n",
    "print(f'Accuracy: {accuracy:.4f}')\n",
    "print(f'F1 Score: {f1:.4f}')\n",
    "print('\\nClassification Report:')\n",
    "print(classification_report(y_test, y_pred))"
   ],
   "id": "3444f5be84c61bcc",
   "outputs": [
    {
     "name": "stdout",
     "output_type": "stream",
     "text": [
      "Accuracy: 0.8263\n",
      "F1 Score: 0.8159\n",
      "\n",
      "Classification Report:\n",
      "              precision    recall  f1-score   support\n",
      "\n",
      "           0       0.82      0.85      0.84       111\n",
      "           1       0.83      0.80      0.82       102\n",
      "\n",
      "    accuracy                           0.83       213\n",
      "   macro avg       0.83      0.83      0.83       213\n",
      "weighted avg       0.83      0.83      0.83       213\n",
      "\n"
     ]
    }
   ],
   "execution_count": 29
  }
 ],
 "metadata": {
  "kernelspec": {
   "display_name": "Python 3",
   "language": "python",
   "name": "python3"
  },
  "language_info": {
   "codemirror_mode": {
    "name": "ipython",
    "version": 2
   },
   "file_extension": ".py",
   "mimetype": "text/x-python",
   "name": "python",
   "nbconvert_exporter": "python",
   "pygments_lexer": "ipython2",
   "version": "2.7.6"
  }
 },
 "nbformat": 4,
 "nbformat_minor": 5
}
