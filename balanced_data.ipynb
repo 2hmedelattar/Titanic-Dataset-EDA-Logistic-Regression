{
 "cells": [
  {
   "cell_type": "code",
   "id": "initial_id",
   "metadata": {
    "collapsed": true,
    "ExecuteTime": {
     "end_time": "2025-08-08T01:30:23.736318Z",
     "start_time": "2025-08-08T01:30:23.734740Z"
    }
   },
   "source": "import pandas as pd",
   "outputs": [],
   "execution_count": 1
  },
  {
   "metadata": {
    "ExecuteTime": {
     "end_time": "2025-08-08T01:31:18.793454Z",
     "start_time": "2025-08-08T01:31:17.954808Z"
    }
   },
   "cell_type": "code",
   "source": [
    "df1 = pd.read_csv('huge_1M_titanic.csv')\n",
    "df2 = pd.read_csv('train.csv')"
   ],
   "id": "1d99748a180b1797",
   "outputs": [],
   "execution_count": 2
  },
  {
   "metadata": {
    "ExecuteTime": {
     "end_time": "2025-08-08T01:35:32.731932Z",
     "start_time": "2025-08-08T01:35:32.561623Z"
    }
   },
   "cell_type": "code",
   "source": [
    "existing_names = set(df2['Name'])\n",
    "filtered_df1 = df1[(df1['Survived'] == 1) & (~df1['Name'].isin(existing_names))]\n",
    "new_rows = filtered_df1.sample(n=170, random_state=42)\n",
    "balanced_data = pd.concat([df2, new_rows], ignore_index=True)"
   ],
   "id": "47edfc8e2f6534b5",
   "outputs": [],
   "execution_count": 3
  },
  {
   "metadata": {
    "ExecuteTime": {
     "end_time": "2025-08-08T01:35:54.122172Z",
     "start_time": "2025-08-08T01:35:54.097433Z"
    }
   },
   "cell_type": "code",
   "source": "balanced_data.to_csv('balanced_data.csv')",
   "id": "3ac5b346bb2346e",
   "outputs": [],
   "execution_count": 4
  }
 ],
 "metadata": {
  "kernelspec": {
   "display_name": "Python 3",
   "language": "python",
   "name": "python3"
  },
  "language_info": {
   "codemirror_mode": {
    "name": "ipython",
    "version": 2
   },
   "file_extension": ".py",
   "mimetype": "text/x-python",
   "name": "python",
   "nbconvert_exporter": "python",
   "pygments_lexer": "ipython2",
   "version": "2.7.6"
  }
 },
 "nbformat": 4,
 "nbformat_minor": 5
}
